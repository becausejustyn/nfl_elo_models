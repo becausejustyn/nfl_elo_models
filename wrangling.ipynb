{
 "cells": [
  {
   "cell_type": "code",
   "execution_count": null,
   "metadata": {},
   "outputs": [],
   "source": [
    "import pandas as pd\n",
    "import numpy as np\n",
    "import pyarrow.dataset as ds\n",
    "\n",
    "from utils import calc_expected_score, calc_new_rating"
   ]
  },
  {
   "cell_type": "code",
   "execution_count": null,
   "metadata": {},
   "outputs": [],
   "source": [
    "data_path = '../../Users/justynrodrigues/Documents/nfl/pbp/'\n",
    "dataset = ds.dataset(data_path, format='parquet')\n",
    "# game_id_df = dataset.to_table(columns = ['game_id', 'home_team', 'away_team', 'season_type', 'week', 'game_date']).to_pandas().drop_duplicates(subset = ['game_id']).reset_index(drop = True)\n"
   ]
  },
  {
   "cell_type": "code",
   "execution_count": null,
   "metadata": {},
   "outputs": [],
   "source": [
    "#nfl_games_19 = pd.read_csv(\"http://www.stat.cmu.edu/cmsac/football/data/nfl_games_2019.csv\") \n",
    "\n",
    "nfl_games_19 = pd.read_csv('~/Downloads/nfl_games_2019.csv')\n",
    "\n",
    "nfl_games_19 = nfl_games_19.assign(\n",
    "    game_outcome = lambda x: np.where(x['home_score'] > x['away_score'], 1, np.where(x['home_score'] == x['away_score'], 0.5, 0))\n",
    ")\n",
    "\n",
    "# nfl_games_19[\"game_outcome\"] = np.where(nfl_games_19[\"home_score\"] > nfl_games_19[\"away_score\"], 1, np.where(nfl_games_19[\"home_score\"] == nfl_games_19[\"away_score\"], 0.5, 0))\n",
    "\n",
    "nfl_elo_ratings = pd.read_csv('~/Downloads/nfl_538_init_elo_ratings.csv')\n",
    "\n",
    "#nfl_elo_ratings = pd.read_csv(\"http://www.stat.cmu.edu/cmsac/football/data/nfl_538_init_elo_ratings.csv\")   "
   ]
  },
  {
   "cell_type": "code",
   "execution_count": null,
   "metadata": {},
   "outputs": [],
   "source": [
    "df = pd.read_csv('//Users/justynrodrigues/Documents/nfl/data/game_results.csv')\n",
    "\n",
    "df = (\n",
    "    df[(df.season < 2022)]\n",
    "    [['game_id', 'gameday', 'game_type', 'season', 'home_team', 'away_team', 'home_score', 'away_score', 'result', 'home_moneyline', 'away_moneyline', 'spread_line', 'away_spread_odds', 'home_spread_odds']]\n",
    "    .assign(implied_home_win = lambda x: money_line_odds(x['home_moneyline'], x['away_moneyline'])[0])\n",
    "    .dropna()\n",
    "    .reset_index(drop = True)\n",
    "    .merge(game_id_df, how = 'left', left_on = ['game_id', 'home_team', 'away_team'], right_on = ['game_id', 'home_team', 'away_team'])\n",
    "    .assign(game_date = lambda x: pd.to_datetime(x['game_date']))\n",
    "    .drop(['game_type', 'gameday'], axis = 1)\n",
    "    )\n",
    "\n",
    "# game_id, home_team, away_team, week, season, home_score, away_score || nfl_games_19"
   ]
  },
  {
   "cell_type": "code",
   "execution_count": null,
   "metadata": {},
   "outputs": [],
   "source": [
    "for game_i in range(nfl_games_19.shape[0]):\n",
    "    # Which teams are we looking at?\n",
    "    home_team = nfl_games_19.iloc[game_i][\"home_team\"]\n",
    "    away_team = nfl_games_19.iloc[game_i][\"away_team\"]\n",
    "    # What was the observed score by the home team?\n",
    "    home_score = nfl_games_19.iloc[game_i][\"game_outcome\"]\n",
    "    # Week number?\n",
    "    game_week = nfl_games_19.iloc[game_i][\"week\"]\n",
    "\n",
    "    # What was each team's rating from their latest game?\n",
    "    home_rating = nfl_elo_ratings.loc[nfl_elo_ratings[\"team\"] == home_team].sort_values(by = \"week\", ascending = False).iloc[0][\"elo_rating\"]\n",
    "    away_rating = nfl_elo_ratings.loc[nfl_elo_ratings[\"team\"] == away_team].sort_values(by = \"week\", ascending = False).iloc[0][\"elo_rating\"]\n",
    "\n",
    "    # Now get their new ratings:\n",
    "    new_home_rating = calc_new_rating(home_rating, home_score, calc_expected_score(home_rating, away_rating))\n",
    "    # Opposite for away team:\n",
    "    new_away_rating = calc_new_rating(away_rating, 1 - home_score, calc_expected_score(away_rating, home_rating))\n",
    "\n",
    "    # Finally - join to the nfl_elo_ratings table each team's new ratings for the week:\n",
    "    updated_ratings = pd.DataFrame(data = {\n",
    "        \"team\": [home_team, away_team],\n",
    "        \"elo_rating\": [new_home_rating, new_away_rating],\n",
    "        \"week\": [game_week, game_week]})\n",
    "    nfl_elo_ratings = nfl_elo_ratings.append(updated_ratings)"
   ]
  }
 ],
 "metadata": {
  "language_info": {
   "name": "python"
  },
  "orig_nbformat": 4
 },
 "nbformat": 4,
 "nbformat_minor": 2
}
